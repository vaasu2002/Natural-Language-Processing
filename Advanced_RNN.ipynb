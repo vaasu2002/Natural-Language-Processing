{
  "cells": [
    {
      "cell_type": "markdown",
      "metadata": {
        "id": "u4V9VGBGO0na"
      },
      "source": [
        "# Advanced RNN - 3\n",
        "- CuDNNGRU & CuDNNLSTM implementation\n",
        "- Note that you need to install Tensorflow > 1.4 & Keras > 2.08 to implement \n",
        "- This source code is running on i5-7500 & GTX 1060 6GB"
      ]
    },
    {
      "cell_type": "code",
      "execution_count": 1,
      "metadata": {
        "id": "Lu6ok4j1O0ns"
      },
      "outputs": [],
      "source": [
        "from keras.datasets import imdb\n",
        "from keras.layers import GRU, LSTM, CuDNNGRU, CuDNNLSTM, Activation\n",
        "from keras.preprocessing.sequence import pad_sequences\n",
        "from keras.models import Sequential"
      ]
    },
    {
      "cell_type": "markdown",
      "metadata": {
        "id": "ohWqA2sEO0n0"
      },
      "source": [
        "### Import dataset\n",
        "- IMDB dataset in Keras datasets\n",
        "- doc: https://keras.io/datasets/"
      ]
    },
    {
      "cell_type": "code",
      "execution_count": 2,
      "metadata": {
        "collapsed": true,
        "id": "C6XUZUkHO0n2"
      },
      "outputs": [],
      "source": [
        "num_words = 30000\n",
        "maxlen = 300"
      ]
    },
    {
      "cell_type": "code",
      "execution_count": 3,
      "metadata": {
        "collapsed": true,
        "colab": {
          "base_uri": "https://localhost:8080/"
        },
        "id": "11gT4IUEO0n5",
        "outputId": "7d850376-d5cd-4051-ae2e-66a51360790a"
      },
      "outputs": [
        {
          "output_type": "stream",
          "name": "stdout",
          "text": [
            "Downloading data from https://storage.googleapis.com/tensorflow/tf-keras-datasets/imdb.npz\n",
            "17465344/17464789 [==============================] - 0s 0us/step\n",
            "17473536/17464789 [==============================] - 0s 0us/step\n"
          ]
        }
      ],
      "source": [
        "(X_train, y_train), (X_test, y_test) = imdb.load_data(num_words = num_words)"
      ]
    },
    {
      "cell_type": "code",
      "execution_count": 4,
      "metadata": {
        "colab": {
          "base_uri": "https://localhost:8080/"
        },
        "id": "H5ZLz3X7O0n7",
        "outputId": "2d378bb9-8c3c-4e8d-c086-8ba76b336df0"
      },
      "outputs": [
        {
          "output_type": "stream",
          "name": "stdout",
          "text": [
            "(25000,)\n",
            "(25000,)\n",
            "(25000,)\n",
            "(25000,)\n"
          ]
        }
      ],
      "source": [
        "print(X_train.shape)\n",
        "print(X_test.shape)\n",
        "print(y_train.shape)\n",
        "print(y_test.shape)"
      ]
    },
    {
      "cell_type": "code",
      "execution_count": 5,
      "metadata": {
        "collapsed": true,
        "id": "JeoXMrVkO0n-"
      },
      "outputs": [],
      "source": [
        "# pad the sequences with zeros \n",
        "# padding parameter is set to 'post' => 0's are appended to end of sequences\n",
        "X_train = pad_sequences(X_train, maxlen = maxlen, padding = 'post')\n",
        "X_test = pad_sequences(X_test, maxlen = maxlen, padding = 'post')"
      ]
    },
    {
      "cell_type": "code",
      "execution_count": 6,
      "metadata": {
        "collapsed": true,
        "id": "N_qepFcfO0oB"
      },
      "outputs": [],
      "source": [
        "X_train = X_train.reshape(X_train.shape + (1,))\n",
        "X_test = X_test.reshape(X_test.shape + (1,))"
      ]
    },
    {
      "cell_type": "code",
      "execution_count": 7,
      "metadata": {
        "colab": {
          "base_uri": "https://localhost:8080/"
        },
        "id": "uLblL-RHO0oE",
        "outputId": "f1a8db71-579c-4d0f-d50d-6f640ca1973f"
      },
      "outputs": [
        {
          "output_type": "stream",
          "name": "stdout",
          "text": [
            "(25000, 300, 1)\n",
            "(25000, 300, 1)\n",
            "(25000,)\n",
            "(25000,)\n"
          ]
        }
      ],
      "source": [
        "print(X_train.shape)\n",
        "print(X_test.shape)\n",
        "print(y_train.shape)\n",
        "print(y_test.shape)"
      ]
    },
    {
      "cell_type": "markdown",
      "metadata": {
        "id": "X3UbWz6TO0oH"
      },
      "source": [
        "### LSTM\n",
        "- Naive LSTM model without CuDNN"
      ]
    },
    {
      "cell_type": "code",
      "execution_count": 8,
      "metadata": {
        "collapsed": true,
        "id": "rtQz75-sO0oJ"
      },
      "outputs": [],
      "source": [
        "def lstm_model():\n",
        "    model = Sequential()\n",
        "    model.add(LSTM(50, input_shape = (300,1), return_sequences = True))\n",
        "    model.add(LSTM(1, return_sequences = False))\n",
        "    model.add(Activation('sigmoid'))\n",
        "    \n",
        "    model.compile(loss = 'binary_crossentropy', optimizer = 'adam', metrics = ['accuracy'])\n",
        "    return model"
      ]
    },
    {
      "cell_type": "code",
      "execution_count": 9,
      "metadata": {
        "collapsed": true,
        "id": "OlL6XIMEO0oK"
      },
      "outputs": [],
      "source": [
        "model = lstm_model()"
      ]
    },
    {
      "cell_type": "code",
      "execution_count": 10,
      "metadata": {
        "colab": {
          "base_uri": "https://localhost:8080/"
        },
        "id": "8r9J-yfoO0oL",
        "outputId": "b86d20e9-0b92-4ca5-f9ee-f0da10c1ea1d"
      },
      "outputs": [
        {
          "output_type": "stream",
          "name": "stdout",
          "text": [
            "CPU times: user 1min 20s, sys: 3.25 s, total: 1min 23s\n",
            "Wall time: 1min 15s\n"
          ]
        },
        {
          "output_type": "execute_result",
          "data": {
            "text/plain": [
              "<keras.callbacks.History at 0x7f1c13c64f90>"
            ]
          },
          "metadata": {},
          "execution_count": 10
        }
      ],
      "source": [
        "%%time\n",
        "model.fit(X_train, y_train, batch_size = 100, epochs = 10, verbose = 0)"
      ]
    },
    {
      "cell_type": "code",
      "execution_count": 11,
      "metadata": {
        "colab": {
          "base_uri": "https://localhost:8080/"
        },
        "id": "FDNJ2ZBGO0oM",
        "outputId": "bfe45081-48f1-45fe-970d-32bfe4725c90"
      },
      "outputs": [
        {
          "output_type": "stream",
          "name": "stdout",
          "text": [
            "Accuracy: 51.08%\n"
          ]
        }
      ],
      "source": [
        "scores = model.evaluate(X_test, y_test, verbose=0)\n",
        "print(\"Accuracy: %.2f%%\" % (scores[1]*100))"
      ]
    },
    {
      "cell_type": "markdown",
      "metadata": {
        "id": "BInIENuqO0oO"
      },
      "source": [
        "### GRU\n",
        "- Naive GRU model without CuDNN"
      ]
    },
    {
      "cell_type": "code",
      "execution_count": 12,
      "metadata": {
        "collapsed": true,
        "id": "-P_jegYiO0oP"
      },
      "outputs": [],
      "source": [
        "def gru_model():\n",
        "    model = Sequential()\n",
        "    model.add(GRU(50, input_shape = (300,1), return_sequences = True))\n",
        "    model.add(GRU(1, return_sequences = False))\n",
        "    model.add(Activation('sigmoid'))\n",
        "    \n",
        "    model.compile(loss = 'binary_crossentropy', optimizer = 'adam', metrics = ['accuracy'])\n",
        "    return model"
      ]
    },
    {
      "cell_type": "code",
      "execution_count": 13,
      "metadata": {
        "collapsed": true,
        "id": "yiWt4yt2O0oQ"
      },
      "outputs": [],
      "source": [
        "model = gru_model()"
      ]
    },
    {
      "cell_type": "code",
      "execution_count": 14,
      "metadata": {
        "colab": {
          "base_uri": "https://localhost:8080/"
        },
        "id": "0xGUYNIMO0oQ",
        "outputId": "d453ff0f-6f55-4d28-e936-78a8f3f491af"
      },
      "outputs": [
        {
          "output_type": "stream",
          "name": "stdout",
          "text": [
            "CPU times: user 1min 26s, sys: 2.43 s, total: 1min 28s\n",
            "Wall time: 1min 20s\n"
          ]
        },
        {
          "output_type": "execute_result",
          "data": {
            "text/plain": [
              "<keras.callbacks.History at 0x7f1c151b9050>"
            ]
          },
          "metadata": {},
          "execution_count": 14
        }
      ],
      "source": [
        "%%time\n",
        "model.fit(X_train, y_train, batch_size = 100, epochs = 10, verbose = 0)"
      ]
    },
    {
      "cell_type": "code",
      "execution_count": 15,
      "metadata": {
        "colab": {
          "base_uri": "https://localhost:8080/"
        },
        "id": "H_UBe9wQO0oR",
        "outputId": "55e19fbb-2603-4063-8006-6ca86eeb0ee1"
      },
      "outputs": [
        {
          "output_type": "stream",
          "name": "stdout",
          "text": [
            "Accuracy: 52.01%\n"
          ]
        }
      ],
      "source": [
        "scores = model.evaluate(X_test, y_test, verbose=0)\n",
        "print(\"Accuracy: %.2f%%\" % (scores[1]*100))"
      ]
    },
    {
      "cell_type": "markdown",
      "metadata": {
        "collapsed": true,
        "id": "fCGw2oeuO0oS"
      },
      "source": [
        "### CuDNN LSTM"
      ]
    },
    {
      "cell_type": "code",
      "execution_count": 16,
      "metadata": {
        "collapsed": true,
        "id": "YnZAGR5iO0oS"
      },
      "outputs": [],
      "source": [
        "def cudnn_lstm_model():\n",
        "    model = Sequential()\n",
        "    model.add(CuDNNLSTM(50, input_shape = (300,1), return_sequences = True))\n",
        "    model.add(CuDNNLSTM(1, return_sequences = False))\n",
        "    model.add(Activation('sigmoid'))\n",
        "    \n",
        "    model.compile(loss = 'binary_crossentropy', optimizer = 'adam', metrics = ['accuracy'])\n",
        "    return model"
      ]
    },
    {
      "cell_type": "code",
      "execution_count": 17,
      "metadata": {
        "collapsed": true,
        "id": "Yiez0iGoO0oT"
      },
      "outputs": [],
      "source": [
        "model = cudnn_lstm_model()"
      ]
    },
    {
      "cell_type": "code",
      "execution_count": 18,
      "metadata": {
        "colab": {
          "base_uri": "https://localhost:8080/"
        },
        "id": "ueABPBUFO0oT",
        "outputId": "b1dbd356-bacd-4d68-a74d-c0f7692ff0f6"
      },
      "outputs": [
        {
          "output_type": "stream",
          "name": "stdout",
          "text": [
            "CPU times: user 1min 15s, sys: 1.66 s, total: 1min 16s\n",
            "Wall time: 1min 12s\n"
          ]
        },
        {
          "output_type": "execute_result",
          "data": {
            "text/plain": [
              "<keras.callbacks.History at 0x7f1c13ccecd0>"
            ]
          },
          "metadata": {},
          "execution_count": 18
        }
      ],
      "source": [
        "%%time\n",
        "model.fit(X_train, y_train, batch_size = 100, epochs = 10, verbose = 0)"
      ]
    },
    {
      "cell_type": "code",
      "execution_count": 19,
      "metadata": {
        "colab": {
          "base_uri": "https://localhost:8080/"
        },
        "id": "W6zndIX5O0oU",
        "outputId": "c9cc5cf3-6001-42a3-9ff3-b82328cb6ad0"
      },
      "outputs": [
        {
          "output_type": "stream",
          "name": "stdout",
          "text": [
            "Accuracy: 52.24%\n"
          ]
        }
      ],
      "source": [
        "scores = model.evaluate(X_test, y_test, verbose=0)\n",
        "print(\"Accuracy: %.2f%%\" % (scores[1]*100))"
      ]
    },
    {
      "cell_type": "markdown",
      "metadata": {
        "collapsed": true,
        "id": "fbXtRg4vO0oV"
      },
      "source": [
        "### CuDNN GRU"
      ]
    },
    {
      "cell_type": "code",
      "execution_count": 20,
      "metadata": {
        "collapsed": true,
        "id": "y9dUp6TvO0oW"
      },
      "outputs": [],
      "source": [
        "def cudnn_gru_model():\n",
        "    model = Sequential()\n",
        "    model.add(CuDNNGRU(50, input_shape = (300,1), return_sequences = True))\n",
        "    model.add(CuDNNGRU(1, return_sequences = False))\n",
        "    model.add(Activation('sigmoid'))\n",
        "    \n",
        "    model.compile(loss = 'binary_crossentropy', optimizer = 'adam', metrics = ['accuracy'])\n",
        "    return model"
      ]
    },
    {
      "cell_type": "code",
      "execution_count": 21,
      "metadata": {
        "collapsed": true,
        "id": "vfpflYaaO0oW"
      },
      "outputs": [],
      "source": [
        "model = cudnn_gru_model()"
      ]
    },
    {
      "cell_type": "code",
      "execution_count": 22,
      "metadata": {
        "colab": {
          "base_uri": "https://localhost:8080/"
        },
        "id": "5nVeX6AdO0oW",
        "outputId": "13993709-5ed4-45a7-d39f-0bf70b8f2797"
      },
      "outputs": [
        {
          "output_type": "stream",
          "name": "stdout",
          "text": [
            "CPU times: user 1min 21s, sys: 1.46 s, total: 1min 23s\n",
            "Wall time: 1min 19s\n"
          ]
        },
        {
          "output_type": "execute_result",
          "data": {
            "text/plain": [
              "<keras.callbacks.History at 0x7f1c137da7d0>"
            ]
          },
          "metadata": {},
          "execution_count": 22
        }
      ],
      "source": [
        "%%time\n",
        "model.fit(X_train, y_train, batch_size = 100, epochs = 10, verbose = 0)"
      ]
    },
    {
      "cell_type": "code",
      "execution_count": 23,
      "metadata": {
        "colab": {
          "base_uri": "https://localhost:8080/"
        },
        "id": "9u5_aauKO0oX",
        "outputId": "187b49b1-b504-4388-8994-88bfab35dc7d"
      },
      "outputs": [
        {
          "output_type": "stream",
          "name": "stdout",
          "text": [
            "Accuracy: 51.84%\n"
          ]
        }
      ],
      "source": [
        "scores = model.evaluate(X_test, y_test, verbose=0)\n",
        "print(\"Accuracy: %.2f%%\" % (scores[1]*100))"
      ]
    }
  ],
  "metadata": {
    "kernelspec": {
      "display_name": "Python 3",
      "language": "python",
      "name": "python3"
    },
    "language_info": {
      "codemirror_mode": {
        "name": "ipython",
        "version": 3
      },
      "file_extension": ".py",
      "mimetype": "text/x-python",
      "name": "python",
      "nbconvert_exporter": "python",
      "pygments_lexer": "ipython3",
      "version": "3.8.5"
    },
    "colab": {
      "name": "Advanced RNN.ipynb",
      "provenance": [],
      "machine_shape": "hm"
    },
    "accelerator": "GPU"
  },
  "nbformat": 4,
  "nbformat_minor": 0
}