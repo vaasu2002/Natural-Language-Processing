{
  "nbformat": 4,
  "nbformat_minor": 0,
  "metadata": {
    "colab": {
      "name": "DealingWIthEmoji.ipynb",
      "provenance": []
    },
    "kernelspec": {
      "name": "python3",
      "display_name": "Python 3"
    },
    "language_info": {
      "name": "python"
    }
  },
  "cells": [
    {
      "cell_type": "markdown",
      "source": [
        "## REMOVING EMOJI"
      ],
      "metadata": {
        "id": "R8VJSr-JikjJ"
      }
    },
    {
      "cell_type": "code",
      "source": [
        "import re\n",
        "def remove_emoji(text):\n",
        "    emoji_pattern = re.compile(\"[\"\n",
        "                           u\"\\U0001F600-\\U0001F64F\"  # emoticons\n",
        "                           u\"\\U0001F300-\\U0001F5FF\"  # symbols & pictographs\n",
        "                           u\"\\U0001F680-\\U0001F6FF\"  # transport & map symbols\n",
        "                           u\"\\U0001F1E0-\\U0001F1FF\"  # flags (iOS)\n",
        "                           u\"\\U00002702-\\U000027B0\"\n",
        "                           u\"\\U000024C2-\\U0001F251\"\n",
        "                           \"]+\", flags=re.UNICODE)\n",
        "    return emoji_pattern.sub(r'', text)"
      ],
      "metadata": {
        "id": "NyuxZXdHhozg"
      },
      "execution_count": 12,
      "outputs": []
    },
    {
      "cell_type": "code",
      "source": [
        "remove_emoji(\"Loved the movie. It was 😘😘\")"
      ],
      "metadata": {
        "colab": {
          "base_uri": "https://localhost:8080/",
          "height": 35
        },
        "id": "h0we-16qhlcc",
        "outputId": "e399c577-c51d-4b10-cab3-0bb5f8c41bd0"
      },
      "execution_count": 13,
      "outputs": [
        {
          "output_type": "execute_result",
          "data": {
            "text/plain": [
              "'Loved the movie. It was '"
            ],
            "application/vnd.google.colaboratory.intrinsic+json": {
              "type": "string"
            }
          },
          "metadata": {},
          "execution_count": 13
        }
      ]
    },
    {
      "cell_type": "code",
      "source": [
        "remove_emoji(\"Lmao 😂😂\")"
      ],
      "metadata": {
        "colab": {
          "base_uri": "https://localhost:8080/",
          "height": 35
        },
        "id": "Fgx9G74Bhm1t",
        "outputId": "39d923fd-d452-40dd-f78a-d53d3e909af7"
      },
      "execution_count": 14,
      "outputs": [
        {
          "output_type": "execute_result",
          "data": {
            "text/plain": [
              "'Lmao '"
            ],
            "application/vnd.google.colaboratory.intrinsic+json": {
              "type": "string"
            }
          },
          "metadata": {},
          "execution_count": 14
        }
      ]
    },
    {
      "cell_type": "markdown",
      "source": [
        "## REPLACE EMOJI"
      ],
      "metadata": {
        "id": "J6oXS2u8inF7"
      }
    },
    {
      "cell_type": "code",
      "source": [
        "!pip install emoji"
      ],
      "metadata": {
        "colab": {
          "base_uri": "https://localhost:8080/"
        },
        "id": "rtW2V3WkisIl",
        "outputId": "2e9adfd9-105f-4957-d3e3-d5598c0be857"
      },
      "execution_count": 17,
      "outputs": [
        {
          "output_type": "stream",
          "name": "stdout",
          "text": [
            "Collecting emoji\n",
            "  Downloading emoji-1.7.0.tar.gz (175 kB)\n",
            "\u001b[?25l\r\u001b[K     |█▉                              | 10 kB 26.1 MB/s eta 0:00:01\r\u001b[K     |███▊                            | 20 kB 33.8 MB/s eta 0:00:01\r\u001b[K     |█████▋                          | 30 kB 23.8 MB/s eta 0:00:01\r\u001b[K     |███████▌                        | 40 kB 12.7 MB/s eta 0:00:01\r\u001b[K     |█████████▍                      | 51 kB 11.8 MB/s eta 0:00:01\r\u001b[K     |███████████▏                    | 61 kB 13.9 MB/s eta 0:00:01\r\u001b[K     |█████████████                   | 71 kB 13.9 MB/s eta 0:00:01\r\u001b[K     |███████████████                 | 81 kB 13.1 MB/s eta 0:00:01\r\u001b[K     |████████████████▉               | 92 kB 14.6 MB/s eta 0:00:01\r\u001b[K     |██████████████████▊             | 102 kB 12.8 MB/s eta 0:00:01\r\u001b[K     |████████████████████▌           | 112 kB 12.8 MB/s eta 0:00:01\r\u001b[K     |██████████████████████▍         | 122 kB 12.8 MB/s eta 0:00:01\r\u001b[K     |████████████████████████▎       | 133 kB 12.8 MB/s eta 0:00:01\r\u001b[K     |██████████████████████████▏     | 143 kB 12.8 MB/s eta 0:00:01\r\u001b[K     |████████████████████████████    | 153 kB 12.8 MB/s eta 0:00:01\r\u001b[K     |█████████████████████████████▉  | 163 kB 12.8 MB/s eta 0:00:01\r\u001b[K     |███████████████████████████████▊| 174 kB 12.8 MB/s eta 0:00:01\r\u001b[K     |████████████████████████████████| 175 kB 12.8 MB/s \n",
            "\u001b[?25hBuilding wheels for collected packages: emoji\n",
            "  Building wheel for emoji (setup.py) ... \u001b[?25l\u001b[?25hdone\n",
            "  Created wheel for emoji: filename=emoji-1.7.0-py3-none-any.whl size=171046 sha256=dbf2edb4aa0ac31ab04e0edcb13bc1131f5c7addeed0f837e2fcee7c6487edc6\n",
            "  Stored in directory: /root/.cache/pip/wheels/8a/4e/b6/57b01db010d17ef6ea9b40300af725ef3e210cb1acfb7ac8b6\n",
            "Successfully built emoji\n",
            "Installing collected packages: emoji\n",
            "Successfully installed emoji-1.7.0\n"
          ]
        }
      ]
    },
    {
      "cell_type": "code",
      "source": [
        "import emoji\n",
        "print(emoji.demojize('Python is 🔥'))"
      ],
      "metadata": {
        "colab": {
          "base_uri": "https://localhost:8080/"
        },
        "id": "ksFRkx2qipJD",
        "outputId": "0a28f057-c141-4edf-bd23-f7f358f1d149"
      },
      "execution_count": 18,
      "outputs": [
        {
          "output_type": "stream",
          "name": "stdout",
          "text": [
            "Python is :fire:\n"
          ]
        }
      ]
    },
    {
      "cell_type": "code",
      "source": [
        "print(emoji.demojize('Loved the movie. It was 😘'))"
      ],
      "metadata": {
        "colab": {
          "base_uri": "https://localhost:8080/"
        },
        "id": "6fH9ifpFiqqw",
        "outputId": "70a22baf-688d-418f-b900-a0bc157048d6"
      },
      "execution_count": 19,
      "outputs": [
        {
          "output_type": "stream",
          "name": "stdout",
          "text": [
            "Loved the movie. It was :face_blowing_a_kiss:\n"
          ]
        }
      ]
    }
  ]
}